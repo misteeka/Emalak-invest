{
 "cells": [
  {
   "cell_type": "code",
   "execution_count": 12,
   "id": "261fa6e7",
   "metadata": {},
   "outputs": [],
   "source": [
    "import numpy as np\n",
    "import pandas as pd"
   ]
  },
  {
   "cell_type": "code",
   "execution_count": 9,
   "id": "39e36a62",
   "metadata": {},
   "outputs": [],
   "source": [
    "import yfinance as yf"
   ]
  },
  {
   "cell_type": "code",
   "execution_count": 11,
   "id": "7cc32d7d",
   "metadata": {},
   "outputs": [
    {
     "name": "stdout",
     "output_type": "stream",
     "text": [
      "[*********************100%***********************]  8 of 8 completed\n",
      "               AFLT.ME     DSKY.ME       GMKN.ME   IRAO.ME      LKOH.ME  \\\n",
      "Date                                                                      \n",
      "2019-01-03   99.372185   69.107712   9939.149414  3.534991  4021.160645   \n",
      "2019-01-04   98.980568   69.138191   9998.051758  3.529656  4075.369873   \n",
      "2019-01-08   98.980568   69.122948  10042.417969  3.476311  4046.859375   \n",
      "2019-01-09   99.920441   69.199165  10119.678711  3.540770  4063.724121   \n",
      "2019-01-10  102.935875   69.321091  10206.884766  3.505207  4137.610352   \n",
      "...                ...         ...           ...       ...          ...   \n",
      "2020-12-24   69.059998  128.926529  21552.953125  5.088188  4695.517578   \n",
      "2020-12-25   68.919998  129.534409  21675.425781  5.120032  4699.656738   \n",
      "2020-12-28   69.459999  128.466003  21929.644531  5.114242  4701.956055   \n",
      "2020-12-29   70.459999  125.352921  21931.500000  5.148015  4740.127441   \n",
      "2020-12-30   71.339996  124.984497  21966.757812  5.128234  4755.303711   \n",
      "\n",
      "               MTSS.ME    NKNC.ME     SBER.ME  \n",
      "Date                                           \n",
      "2019-01-03  169.875473  38.756493  124.225555  \n",
      "2019-01-04  175.596863  38.875740  126.882950  \n",
      "2019-01-08  176.621048  38.637241  127.049026  \n",
      "2019-01-09  177.998428  38.875740  130.875641  \n",
      "2019-01-10  180.823792  38.994995  130.709549  \n",
      "...                ...        ...         ...  \n",
      "2020-12-24  292.485016  85.285408  253.104645  \n",
      "2020-12-25  293.826691  86.259300  254.846298  \n",
      "2020-12-28  293.245331  85.702789  258.451965  \n",
      "2020-12-29  296.196991  84.775276  256.578522  \n",
      "2020-12-30  296.510040  84.821648  254.808640  \n",
      "\n",
      "[502 rows x 8 columns]\n"
     ]
    }
   ],
   "source": [
    "tickers = ['LKOH.ME','GMKN.ME', 'DSKY.ME', 'NKNC.ME', 'MTSS.ME', 'IRAO.ME', 'SBER.ME', 'AFLT.ME']\n",
    "df_stocks= yf.download(tickers, start='2019-01-01', end='2020-01-01')['Adj Close']\n",
    "df_stocks.head()\n",
    "nullin_df = pd.DataFrame(df_stocks,columns=tickers)\n",
    "nullin_df.isnull().sum()\n",
    "print(df_stocks)"
   ]
  },
  {
   "cell_type": "code",
   "execution_count": 15,
   "id": "b46c3ad6",
   "metadata": {},
   "outputs": [],
   "source": [
    "returns = df_stocks.pct_change().dropna(how=\"all\")"
   ]
  },
  {
   "cell_type": "code",
   "execution_count": 16,
   "id": "1c33e108",
   "metadata": {},
   "outputs": [
    {
     "name": "stdout",
     "output_type": "stream",
     "text": [
      "             AFLT.ME   DSKY.ME   GMKN.ME   IRAO.ME   LKOH.ME   MTSS.ME  \\\n",
      "Date                                                                     \n",
      "2019-01-04  0.996059  1.000441  1.005926  0.998491  1.013481  1.033680   \n",
      "2019-01-08  1.000000  0.999780  1.004437  0.984887  0.993004  1.005833   \n",
      "2019-01-09  1.009496  1.001103  1.007693  1.018542  1.004167  1.007799   \n",
      "2019-01-10  1.030178  1.001762  1.008617  0.989956  1.018182  1.015873   \n",
      "2019-01-11  0.995435  1.002419  1.007045  1.004439  1.009317  0.987500   \n",
      "...              ...       ...       ...       ...       ...       ...   \n",
      "2020-12-24  0.994528  1.013555  0.995287  0.996410  0.998631  0.999083   \n",
      "2020-12-25  0.997973  1.004715  1.005682  1.006258  1.000882  1.004587   \n",
      "2020-12-28  1.007835  0.991752  1.011728  0.998869  1.000489  0.998021   \n",
      "2020-12-29  1.014397  0.975767  1.000085  1.006604  1.008118  1.010065   \n",
      "2020-12-30  1.012489  0.997061  1.001608  0.996157  1.003202  1.001057   \n",
      "\n",
      "             NKNC.ME   SBER.ME  \n",
      "Date                            \n",
      "2019-01-04  1.003077  1.021392  \n",
      "2019-01-08  0.993865  1.001309  \n",
      "2019-01-09  1.006173  1.030119  \n",
      "2019-01-10  1.003068  0.998731  \n",
      "2019-01-11  0.996942  1.000254  \n",
      "...              ...       ...  \n",
      "2020-12-24  1.001634  0.999182  \n",
      "2020-12-25  1.011419  1.006881  \n",
      "2020-12-28  0.993548  1.014148  \n",
      "2020-12-29  0.989178  0.992751  \n",
      "2020-12-30  1.000547  0.993102  \n",
      "\n",
      "[501 rows x 8 columns]\n"
     ]
    }
   ],
   "source": [
    "print(1 + returns)"
   ]
  },
  {
   "cell_type": "code",
   "execution_count": 19,
   "id": "38138f62",
   "metadata": {},
   "outputs": [
    {
     "name": "stdout",
     "output_type": "stream",
     "text": [
      "AFLT.ME    0.717907\n",
      "DSKY.ME    1.808546\n",
      "GMKN.ME    2.210125\n",
      "IRAO.ME    1.450706\n",
      "LKOH.ME    1.182570\n",
      "MTSS.ME    1.745455\n",
      "NKNC.ME    2.188579\n",
      "SBER.ME    2.051177\n",
      "dtype: float64\n"
     ]
    }
   ],
   "source": [
    "g = (1 + returns).prod()\n",
    "print(g)"
   ]
  },
  {
   "cell_type": "code",
   "execution_count": 22,
   "id": "386add25",
   "metadata": {},
   "outputs": [
    {
     "name": "stdout",
     "output_type": "stream",
     "text": [
      "AFLT.ME    0.502994\n",
      "DSKY.ME    0.502994\n",
      "GMKN.ME    0.502994\n",
      "IRAO.ME    0.502994\n",
      "LKOH.ME    0.502994\n",
      "MTSS.ME    0.502994\n",
      "NKNC.ME    0.502994\n",
      "SBER.ME    0.502994\n",
      "dtype: float64\n"
     ]
    }
   ],
   "source": [
    "frequency = 252\n",
    "returnsCount = returns.count()\n",
    "print(frequency / returnsCount)"
   ]
  }
 ],
 "metadata": {
  "kernelspec": {
   "display_name": "Python 3 (ipykernel)",
   "language": "python",
   "name": "python3"
  },
  "language_info": {
   "codemirror_mode": {
    "name": "ipython",
    "version": 3
   },
   "file_extension": ".py",
   "mimetype": "text/x-python",
   "name": "python",
   "nbconvert_exporter": "python",
   "pygments_lexer": "ipython3",
   "version": "3.9.13"
  }
 },
 "nbformat": 4,
 "nbformat_minor": 5
}
