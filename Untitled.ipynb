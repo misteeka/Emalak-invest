{
 "cells": [
  {
   "cell_type": "code",
   "execution_count": 32,
   "id": "8e6fe434",
   "metadata": {},
   "outputs": [],
   "source": [
    "from moex.moex import *\n",
    "from config.reader import *\n",
    "from postgres.storage import *\n",
    "import numpy as np"
   ]
  },
  {
   "cell_type": "code",
   "execution_count": 7,
   "id": "b092bbe2",
   "metadata": {},
   "outputs": [
    {
     "name": "stdout",
     "output_type": "stream",
     "text": [
      "              SBER\n",
      "date              \n",
      "2023-01-03  141.78\n",
      "2023-01-04  141.43\n",
      "2023-01-05  141.27\n",
      "2023-01-06  141.40\n",
      "2023-01-09  142.40\n",
      "2023-01-10  142.81\n",
      "2023-01-11  149.96\n",
      "2023-01-12  149.30\n",
      "2023-01-13  151.69\n",
      "2023-01-16  153.71\n",
      "2023-01-17  150.45\n",
      "2023-01-18  151.47\n",
      "2023-01-19  149.34\n",
      "2023-01-20  151.38\n",
      "2023-01-23  153.50\n",
      "2023-01-24  152.66\n",
      "2023-01-25  152.81\n",
      "2023-01-26  152.40\n",
      "2023-01-27  153.20\n",
      "2023-01-30  153.38\n",
      "2023-01-31  158.07\n",
      "2023-02-01  158.29\n",
      "2023-02-02  159.45\n",
      "2023-02-03  161.26\n",
      "2023-02-06  167.09\n",
      "2023-02-07  165.39\n",
      "2023-02-08  164.15\n",
      "2023-02-09  165.31\n",
      "2023-02-10  165.52\n",
      "2023-02-13  164.32\n",
      "2023-02-14  161.86\n",
      "2023-02-15  156.25\n",
      "2023-02-16  158.22\n",
      "2023-02-17  159.73\n",
      "2023-02-20  160.09\n",
      "2023-02-21  164.15\n",
      "2023-02-22  163.37\n",
      "2023-02-24  164.30\n",
      "2023-02-27  169.95\n",
      "2023-02-28  169.82\n",
      "2023-03-01  170.53\n",
      "2023-03-02  168.05\n",
      "2023-03-03  171.16\n",
      "2023-03-06  171.84\n",
      "2023-03-07  174.01\n",
      "2023-03-09  172.55\n",
      "2023-03-10  172.53\n",
      "2023-03-13  172.15\n",
      "2023-03-14  175.71\n"
     ]
    },
    {
     "name": "stderr",
     "output_type": "stream",
     "text": [
      "/home/blasdel/emalak/moex/moex.py:33: FutureWarning: Dropping of nuisance columns in DataFrame reductions (with 'numeric_only=None') is deprecated; in a future version this will raise TypeError.  Select only valid columns before calling the reduction.\n",
      "  out = out.fillna(out.mean())\n"
     ]
    }
   ],
   "source": [
    "cfg = read_config('config.json')\n",
    "print(load_historical(['SBER'], \"2023-01-01\", \"2023-12-31\").set_index('date'))"
   ]
  },
  {
   "cell_type": "code",
   "execution_count": 9,
   "id": "856facf5",
   "metadata": {},
   "outputs": [],
   "source": [
    "df = pd.DataFrame(columns=[\"A\", \"B\", \"C\"], data=[[1,2,3]])"
   ]
  },
  {
   "cell_type": "code",
   "execution_count": 10,
   "id": "e4a36c23",
   "metadata": {},
   "outputs": [
    {
     "data": {
      "text/html": [
       "<div>\n",
       "<style scoped>\n",
       "    .dataframe tbody tr th:only-of-type {\n",
       "        vertical-align: middle;\n",
       "    }\n",
       "\n",
       "    .dataframe tbody tr th {\n",
       "        vertical-align: top;\n",
       "    }\n",
       "\n",
       "    .dataframe thead th {\n",
       "        text-align: right;\n",
       "    }\n",
       "</style>\n",
       "<table border=\"1\" class=\"dataframe\">\n",
       "  <thead>\n",
       "    <tr style=\"text-align: right;\">\n",
       "      <th></th>\n",
       "      <th>A</th>\n",
       "      <th>B</th>\n",
       "      <th>C</th>\n",
       "    </tr>\n",
       "  </thead>\n",
       "  <tbody>\n",
       "    <tr>\n",
       "      <th>0</th>\n",
       "      <td>1</td>\n",
       "      <td>2</td>\n",
       "      <td>3</td>\n",
       "    </tr>\n",
       "  </tbody>\n",
       "</table>\n",
       "</div>"
      ],
      "text/plain": [
       "   A  B  C\n",
       "0  1  2  3"
      ]
     },
     "execution_count": 10,
     "metadata": {},
     "output_type": "execute_result"
    }
   ],
   "source": [
    "df"
   ]
  },
  {
   "cell_type": "code",
   "execution_count": 26,
   "id": "7c51664d",
   "metadata": {},
   "outputs": [],
   "source": [
    "a = df.iloc[0].array"
   ]
  },
  {
   "cell_type": "code",
   "execution_count": 29,
   "id": "485064b6",
   "metadata": {},
   "outputs": [
    {
     "data": {
      "text/plain": [
       "<PandasArray>\n",
       "[1, 2, 3]\n",
       "Length: 3, dtype: int64"
      ]
     },
     "execution_count": 29,
     "metadata": {},
     "output_type": "execute_result"
    }
   ],
   "source": [
    "a"
   ]
  },
  {
   "cell_type": "code",
   "execution_count": 19,
   "id": "c5b90ecc",
   "metadata": {},
   "outputs": [
    {
     "data": {
      "text/plain": [
       "(1, 2, 3)"
      ]
     },
     "execution_count": 19,
     "metadata": {},
     "output_type": "execute_result"
    }
   ],
   "source": [
    "a[0], a[1], a[2]"
   ]
  },
  {
   "cell_type": "code",
   "execution_count": 24,
   "id": "4f7cd7e8",
   "metadata": {},
   "outputs": [
    {
     "data": {
      "text/plain": [
       "array(['A', 'B', 'C'], dtype=object)"
      ]
     },
     "execution_count": 24,
     "metadata": {},
     "output_type": "execute_result"
    }
   ],
   "source": [
    "df.columns.values"
   ]
  },
  {
   "cell_type": "code",
   "execution_count": 36,
   "id": "43ca1a54",
   "metadata": {},
   "outputs": [
    {
     "data": {
      "text/plain": [
       "array([0., 0., 0.])"
      ]
     },
     "execution_count": 36,
     "metadata": {},
     "output_type": "execute_result"
    }
   ],
   "source": [
    "np.zeros(df.shape[1])"
   ]
  },
  {
   "cell_type": "code",
   "execution_count": 40,
   "id": "8888fef9",
   "metadata": {},
   "outputs": [
    {
     "name": "stdout",
     "output_type": "stream",
     "text": [
      "[*********************100%***********************]  8 of 8 completed\n",
      "1\n",
      "===============================================================================\n",
      "                                     CVXPY                                     \n",
      "                                     v1.3.0                                    \n",
      "===============================================================================\n",
      "(CVXPY) Mar 15 10:19:06 PM: Your problem has 8 variables, 3 constraints, and 0 parameters.\n",
      "(CVXPY) Mar 15 10:19:06 PM: It is compliant with the following grammars: DCP, DQCP\n",
      "(CVXPY) Mar 15 10:19:06 PM: (If you need to solve this problem multiple times, but with different data, consider using parameters.)\n",
      "(CVXPY) Mar 15 10:19:06 PM: CVXPY will first compile your problem; then, it will invoke a numerical solver to obtain a solution.\n",
      "-------------------------------------------------------------------------------\n",
      "                                  Compilation                                  \n",
      "-------------------------------------------------------------------------------\n",
      "(CVXPY) Mar 15 10:19:06 PM: Compiling problem (target solver=ECOS).\n",
      "(CVXPY) Mar 15 10:19:06 PM: Reduction chain: Dcp2Cone -> CvxAttr2Constr -> ConeMatrixStuffing -> ECOS\n",
      "(CVXPY) Mar 15 10:19:06 PM: Applying reduction Dcp2Cone\n",
      "(CVXPY) Mar 15 10:19:06 PM: Applying reduction CvxAttr2Constr\n",
      "(CVXPY) Mar 15 10:19:06 PM: Applying reduction ConeMatrixStuffing\n",
      "(CVXPY) Mar 15 10:19:06 PM: Applying reduction ECOS\n",
      "(CVXPY) Mar 15 10:19:06 PM: Finished problem compilation (took 1.053e-02 seconds).\n",
      "-------------------------------------------------------------------------------\n",
      "                                Numerical solver                               \n",
      "-------------------------------------------------------------------------------\n",
      "(CVXPY) Mar 15 10:19:06 PM: Invoking solver ECOS  to obtain a solution.\n",
      "-------------------------------------------------------------------------------\n",
      "                                    Summary                                    \n",
      "-------------------------------------------------------------------------------\n",
      "(CVXPY) Mar 15 10:19:06 PM: Problem status: optimal\n",
      "(CVXPY) Mar 15 10:19:06 PM: Optimal value: -3.957e-01\n",
      "(CVXPY) Mar 15 10:19:06 PM: Compilation took 1.053e-02 seconds\n",
      "(CVXPY) Mar 15 10:19:06 PM: Solver (including time spent in interface) took 3.991e-04 seconds\n",
      "===============================================================================\n",
      "                                     CVXPY                                     \n",
      "                                     v1.3.0                                    \n",
      "===============================================================================\n",
      "(CVXPY) Mar 15 10:19:06 PM: Your problem has 8 variables, 4 constraints, and 1 parameters.\n",
      "(CVXPY) Mar 15 10:19:06 PM: It is compliant with the following grammars: DCP, DQCP\n",
      "(CVXPY) Mar 15 10:19:06 PM: CVXPY will first compile your problem; then, it will invoke a numerical solver to obtain a solution.\n",
      "-------------------------------------------------------------------------------\n",
      "                                  Compilation                                  \n",
      "-------------------------------------------------------------------------------\n",
      "(CVXPY) Mar 15 10:19:06 PM: Compiling problem (target solver=OSQP).\n",
      "(CVXPY) Mar 15 10:19:06 PM: Reduction chain: CvxAttr2Constr -> Qp2SymbolicQp -> QpMatrixStuffing -> OSQP\n",
      "(CVXPY) Mar 15 10:19:06 PM: Applying reduction CvxAttr2Constr\n",
      "(CVXPY) Mar 15 10:19:06 PM: Applying reduction Qp2SymbolicQp\n",
      "(CVXPY) Mar 15 10:19:06 PM: Applying reduction QpMatrixStuffing\n",
      "(CVXPY) Mar 15 10:19:06 PM: Applying reduction OSQP\n",
      "(CVXPY) Mar 15 10:19:06 PM: Finished problem compilation (took 9.682e-03 seconds).\n",
      "(CVXPY) Mar 15 10:19:06 PM: (Subsequent compilations of this problem, using the same arguments, should take less time.)\n",
      "-------------------------------------------------------------------------------\n",
      "                                Numerical solver                               \n",
      "-------------------------------------------------------------------------------\n",
      "(CVXPY) Mar 15 10:19:06 PM: Invoking solver OSQP  to obtain a solution.\n",
      "-----------------------------------------------------------------\n",
      "           OSQP v0.6.2  -  Operator Splitting QP Solver\n",
      "              (c) Bartolomeo Stellato,  Goran Banjac\n",
      "        University of Oxford  -  Stanford University 2021\n",
      "-----------------------------------------------------------------\n",
      "problem:  variables n = 8, constraints m = 18\n",
      "          nnz(P) + nnz(A) = 68\n",
      "settings: linear system solver = qdldl,\n",
      "          eps_abs = 1.0e-05, eps_rel = 1.0e-05,\n",
      "          eps_prim_inf = 1.0e-04, eps_dual_inf = 1.0e-04,\n",
      "          rho = 1.00e-01 (adaptive),\n",
      "          sigma = 1.00e-06, alpha = 1.60, max_iter = 10000\n",
      "          check_termination: on (interval 25),\n",
      "          scaling: on, scaled_termination: off\n",
      "          warm start: on, polish: on, time_limit: off\n",
      "\n",
      "iter   objective    pri res    dua res    rho        time\n",
      "   1   0.0000e+00   1.00e+00   1.00e+02   1.00e-01   4.63e-05s\n",
      "  50   2.8087e-02   2.03e-08   1.81e-09   1.00e-01   8.44e-05s\n",
      "plsh   2.8087e-02   5.74e-23   4.86e-17   --------   1.16e-04s\n",
      "\n",
      "status:               solved\n",
      "solution polish:      successful\n",
      "number of iterations: 50\n",
      "optimal objective:    0.0281\n",
      "run time:             1.16e-04s\n",
      "optimal rho estimate: 8.35e-02\n",
      "\n",
      "-------------------------------------------------------------------------------\n",
      "                                    Summary                                    \n",
      "-------------------------------------------------------------------------------\n",
      "(CVXPY) Mar 15 10:19:06 PM: Problem status: optimal\n",
      "(CVXPY) Mar 15 10:19:06 PM: Optimal value: 2.809e-02\n",
      "(CVXPY) Mar 15 10:19:06 PM: Compilation took 9.682e-03 seconds\n",
      "(CVXPY) Mar 15 10:19:06 PM: Solver (including time spent in interface) took 1.314e-03 seconds\n",
      "Weights OrderedDict([('AFLT.ME', 0.0), ('DSKY.ME', 0.24634), ('GMKN.ME', 0.14937), ('IRAO.ME', 0.07837), ('LKOH.ME', 0.03958), ('MTSS.ME', 0.35671), ('NKNC.ME', 0.12963), ('SBER.ME', 0.0)])\n",
      "Portfolio performance:\n",
      "(0.24999999999999994, 0.16759093932125693)\n",
      "1 Index(['AFLT.ME', 'DSKY.ME', 'GMKN.ME', 'IRAO.ME', 'LKOH.ME', 'MTSS.ME',\n",
      "       'NKNC.ME', 'SBER.ME'],\n",
      "      dtype='object')\n",
      "1 Index(['AFLT.ME', 'DSKY.ME', 'GMKN.ME', 'IRAO.ME', 'LKOH.ME', 'MTSS.ME',\n",
      "       'NKNC.ME', 'SBER.ME'],\n",
      "      dtype='object')\n",
      "1 Index(['AFLT.ME', 'DSKY.ME', 'GMKN.ME', 'IRAO.ME', 'LKOH.ME', 'MTSS.ME',\n",
      "       'NKNC.ME', 'SBER.ME'],\n",
      "      dtype='object')\n",
      "1 Index(['AFLT.ME', 'DSKY.ME', 'GMKN.ME', 'IRAO.ME', 'LKOH.ME', 'MTSS.ME',\n",
      "       'NKNC.ME', 'SBER.ME'],\n",
      "      dtype='object')\n",
      "1 Index(['AFLT.ME', 'DSKY.ME', 'GMKN.ME', 'IRAO.ME', 'LKOH.ME', 'MTSS.ME',\n",
      "       'NKNC.ME', 'SBER.ME'],\n",
      "      dtype='object')\n",
      "1 Index(['AFLT.ME', 'DSKY.ME', 'GMKN.ME', 'IRAO.ME', 'LKOH.ME', 'MTSS.ME',\n",
      "       'NKNC.ME', 'SBER.ME'],\n",
      "      dtype='object')\n",
      "1 Index(['AFLT.ME', 'DSKY.ME', 'GMKN.ME', 'IRAO.ME', 'LKOH.ME', 'MTSS.ME',\n",
      "       'NKNC.ME', 'SBER.ME'],\n",
      "      dtype='object')\n",
      "1 Index(['AFLT.ME', 'DSKY.ME', 'GMKN.ME', 'IRAO.ME', 'LKOH.ME', 'MTSS.ME',\n",
      "       'NKNC.ME', 'SBER.ME'],\n",
      "      dtype='object')\n"
     ]
    }
   ],
   "source": [
    "\n",
    "import yfinance as yf\n",
    "import numpy as np\n",
    "import pandas as pd\n",
    "from optimizer import Optimizer\n",
    "from pypfopt import expected_returns, EfficientFrontier, risk_models\n",
    "\n",
    "# Получение данных по ценам акций\n",
    "def getStocksData(start, end):\n",
    "    tickers = ['LKOH.ME','GMKN.ME', 'DSKY.ME', 'NKNC.ME', 'MTSS.ME', 'IRAO.ME', 'SBER.ME', 'AFLT.ME']\n",
    "    \n",
    "    df_stocks= yf.download(tickers, start='2018-01-01', end='2021-03-15')['Adj Close']\n",
    "    #df_stocks.head()\n",
    "    nullin_df = pd.DataFrame(df_stocks,columns=tickers)\n",
    "    nullin_df.dropna()\n",
    "    return df_stocks\n",
    "\n",
    "# Получение минимального дохода\n",
    "def getMinReturn(stocks):\n",
    "    mu = get_mu(stocks)\n",
    "    sigma = get_sigma(stocks)\n",
    "    ef = Optimizer(mu, sigma, weight_bounds=(0,1)) \n",
    "    ef.efficient_return(float(0))\n",
    "    return ef.portfolio_performance()[0]\n",
    "\n",
    "# Получение максимально возможного риска портфеля\n",
    "def getMaxRisk(stocks):\n",
    "    mu = get_mu(stocks)\n",
    "    sigma = get_sigma(stocks)\n",
    "    ef = Optimizer(mu, sigma, weight_bounds=(0,1)) \n",
    "    ef.efficient_risk(float(1))\n",
    "    return ef.portfolio_performance()[1]\n",
    "\n",
    "# Годовая доходность\n",
    "def get_mu(prices):\n",
    "    frequency = 252 # TODO\n",
    "    if not isinstance(prices, pd.DataFrame):\n",
    "        print(\"prices are not in a dataframe\")\n",
    "        prices = pd.DataFrame(prices)\n",
    "    returns = prices.pct_change().dropna(how=\"all\")\n",
    "    return (1 + returns).prod() ** (frequency / returns.count()) - 1\n",
    "\n",
    "def _is_positive_semidefinite(matrix):\n",
    "    try:\n",
    "        # Significantly more efficient than checking eigenvalues (stackoverflow.com/questions/16266720)\n",
    "        np.linalg.cholesky(matrix + 1e-16 * np.eye(len(matrix)))\n",
    "        return True\n",
    "    except np.linalg.LinAlgError:\n",
    "        return False\n",
    "    \n",
    "def fix_nonpositive_semidefinite(matrix):\n",
    "    if _is_positive_semidefinite(matrix):\n",
    "        return matrix\n",
    "\n",
    "    # Eigendecomposition\n",
    "    q, V = np.linalg.eigh(matrix)\n",
    "\n",
    "    # Remove negative eigenvalues\n",
    "    q = np.where(q > 0, q, 0)\n",
    "    # Reconstruct matrix\n",
    "    fixed_matrix = V @ np.diag(q) @ V.T\n",
    "    \n",
    "    if not _is_positive_semidefinite(fixed_matrix):  # pragma: no cover\n",
    "        print(\"Could not fix matrix.\")\n",
    "\n",
    "    # Rebuild labels if provided\n",
    "    if isinstance(matrix, pd.DataFrame):\n",
    "        tickers = matrix.index\n",
    "        return pd.DataFrame(fixed_matrix, index=tickers, columns=tickers)\n",
    "    else:\n",
    "        return fixed_matrix\n",
    "\n",
    "# Cov\n",
    "def get_sigma(prices):\n",
    "    frequency = 252 # TODO\n",
    "    if not isinstance(prices, pd.DataFrame):\n",
    "        print(\"data is not in a dataframe\")\n",
    "        prices = pd.DataFrame(prices)\n",
    "    returns = prices.pct_change().dropna(how=\"all\")\n",
    "    return fix_nonpositive_semidefinite(returns.cov() * frequency)\n",
    "\n",
    "# Получение минимально возможного риска портфеля\n",
    "def getMinRisk(stocks):\n",
    "    mu = get_mu(stocks)\n",
    "    sigma = get_sigma(stocks)\n",
    "    ef = Optimizer(mu, sigma, weight_bounds=(0,1)) \n",
    "    ef.min_volatility()\n",
    "    return ef.portfolio_performance()[1]\n",
    "\n",
    "# Получение максимально возможного риска портфеля\n",
    "def getMaxReturn(stocks):\n",
    "    return max(get_mu(stocks).values)\n",
    "\n",
    "# Минимальный риск при заданной доходности\n",
    "def minimize_risk(stocks, target_return: float):\n",
    "    mu = get_mu(stocks)\n",
    "    sigma = get_sigma(stocks)\n",
    "    ef = Optimizer(mu, sigma, weight_bounds=(0,1))\n",
    "    minrisk=ef.efficient_return(target_return)\n",
    "    return ef\n",
    "\n",
    "# Максимальная доходность для заданного риска\n",
    "def maximize_return(stocks, target_risk: float):\n",
    "    mu = get_mu(stocks)\n",
    "    sigma = get_sigma(stocks)\n",
    "    ef = Optimizer(mu, sigma, weight_bounds=(0,1)) \n",
    "    maxret=ef.efficient_risk(target_risk)\n",
    "    return ef\n",
    "\n",
    "def getAmounts(deposit, weights, stocks):\n",
    "    #print(deposit)\n",
    "    #print(weights)\n",
    "    amounts = dict()\n",
    "    for w in weights:\n",
    "        amount = deposit * weights[w]\n",
    "        amounts[w] = amount\n",
    "    #print(stocks)\n",
    "    #print(amounts)\n",
    "    for s in stocks:\n",
    "        print('1', stocks.columns)\n",
    "\n",
    "df = getStocksData(start='2018-01-01', end='2021-03-15')\n",
    "port = minimize_risk(df, target_return=0.25)\n",
    "pwt=port.clean_weights()\n",
    "print(\"Weights\", pwt)\n",
    "print(\"Portfolio performance:\")\n",
    "print(port.portfolio_performance())\n",
    "getAmounts(10000, pwt, df)"
   ]
  },
  {
   "cell_type": "code",
   "execution_count": 42,
   "id": "1970ec4b",
   "metadata": {},
   "outputs": [],
   "source": [
    "conn = connect()"
   ]
  },
  {
   "cell_type": "code",
   "execution_count": 43,
   "id": "209c6607",
   "metadata": {},
   "outputs": [],
   "source": [
    "df = load_ticker_history(conn, \"SBER\", '2018-01-01', '2021-03-15')"
   ]
  },
  {
   "cell_type": "code",
   "execution_count": null,
   "id": "9e721c5f",
   "metadata": {},
   "outputs": [],
   "source": [
    "getAmounts(10000, pwt, df)"
   ]
  },
  {
   "cell_type": "code",
   "execution_count": null,
   "id": "177dc743",
   "metadata": {},
   "outputs": [],
   "source": []
  }
 ],
 "metadata": {
  "kernelspec": {
   "display_name": "Python 3 (ipykernel)",
   "language": "python",
   "name": "python3"
  },
  "language_info": {
   "codemirror_mode": {
    "name": "ipython",
    "version": 3
   },
   "file_extension": ".py",
   "mimetype": "text/x-python",
   "name": "python",
   "nbconvert_exporter": "python",
   "pygments_lexer": "ipython3",
   "version": "3.9.13"
  }
 },
 "nbformat": 4,
 "nbformat_minor": 5
}
